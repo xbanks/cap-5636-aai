{
 "cells": [
  {
   "cell_type": "code",
   "execution_count": 61,
   "metadata": {},
   "outputs": [
    {
     "name": "stdout",
     "output_type": "stream",
     "text": [
      "\u001b[33mWARN: gym.spaces.Box autodetected dtype as <class 'numpy.float32'>. Please provide explicit dtype.\u001b[0m\n"
     ]
    }
   ],
   "source": [
    "import gym\n",
    "import numpy as np\n",
    "\n",
    "env = gym.make('MountainCar-v0')"
   ]
  },
  {
   "cell_type": "markdown",
   "metadata": {},
   "source": [
    "The action space for this is `0 - 3`:\n",
    "\n",
    "* `0` = Move Left\n",
    "* `1` = Don't Move (drift with gravity)\n",
    "* `2` = Move Right"
   ]
  },
  {
   "cell_type": "code",
   "execution_count": 56,
   "metadata": {},
   "outputs": [],
   "source": [
    "observation, reward, is_done, info = result\n",
    "result\n",
    "LEFT = 0\n",
    "RIGHT = 2\n",
    "\n",
    "LOG = False\n",
    "\n",
    "def log(*s: str):\n",
    "    if not LOG:\n",
    "        return\n",
    "    print(s)"
   ]
  },
  {
   "cell_type": "markdown",
   "metadata": {},
   "source": [
    "## Policy\n",
    "\n",
    "My policy is to always move in the direction of the velocity.\n",
    "\n",
    "This works because as we lose velocity going up the ramp, it eventually changes direction, and if we point our movement action in that direction then the cart will end up picking up speed as it goes back down the hill and will result in a higher speed going up the next part of the hill. \n",
    "\n",
    "This will result in it eventually moving all the way to the top of the hill, completing the episode."
   ]
  },
  {
   "cell_type": "code",
   "execution_count": 59,
   "metadata": {},
   "outputs": [],
   "source": [
    "def run_episode(step_count: int = 300):\n",
    "    observation = env.reset()\n",
    "    _, old_velocity = env.env.state\n",
    "    velocity = old_velocity\n",
    "    action = env.action_space.sample()\n",
    "    score = 0\n",
    "\n",
    "    for t in range(step_count):\n",
    "        env.render()\n",
    "        \n",
    "        # We always move in the direction of the velocity\n",
    "        if np.sign(velocity) == -1:\n",
    "            action = LEFT\n",
    "        elif np.sign(velocity) == 0:\n",
    "            action = 1\n",
    "        else:\n",
    "            action = RIGHT\n",
    "        \n",
    "        # Take action and add reward\n",
    "        observation, reward, is_done, info = env.step(action)\n",
    "        score += reward\n",
    "\n",
    "        _, velocity = env.env.state\n",
    "        if is_done:\n",
    "            log(\"Time: {}. Score: {}\".format(t+1, score))\n",
    "            break\n",
    "    return score"
   ]
  },
  {
   "cell_type": "code",
   "execution_count": 60,
   "metadata": {},
   "outputs": [
    {
     "name": "stdout",
     "output_type": "stream",
     "text": [
      "Ep 1 Score: -183.0\n",
      "Ep 2 Score: -115.0\n",
      "Ep 3 Score: -91.0\n",
      "Ep 4 Score: -99.0\n",
      "Ep 5 Score: -114.0\n",
      "Ep 6 Score: -97.0\n",
      "Ep 7 Score: -115.0\n",
      "Ep 8 Score: -165.0\n",
      "Ep 9 Score: -116.0\n",
      "Ep 10 Score: -116.0\n",
      "Ep 11 Score: -109.0\n",
      "Ep 12 Score: -91.0\n",
      "Ep 13 Score: -114.0\n",
      "Ep 14 Score: -111.0\n",
      "Ep 15 Score: -117.0\n",
      "Ep 16 Score: -117.0\n",
      "Ep 17 Score: -116.0\n",
      "Ep 18 Score: -115.0\n",
      "Ep 19 Score: -117.0\n",
      "Ep 20 Score: -170.0\n",
      "Average Score in 20 episodes: -119.4\n"
     ]
    }
   ],
   "source": [
    "try:\n",
    "    step_count = 2000\n",
    "    total_score = 0.0\n",
    "    n_episodes = 20\n",
    "    for ep_n in range(n_episodes):\n",
    "        score = run_episode(step_count)\n",
    "        print(\"Ep {} Score: {}\".format(ep_n + 1, score))\n",
    "        total_score += score\n",
    "    avg_score = total_score / n_episodes\n",
    "    print(\"Average Score in {} episodes: {}\".format(n_episodes, avg_score))\n",
    "finally:\n",
    "    env.close()"
   ]
  }
 ],
 "metadata": {
  "kernelspec": {
   "display_name": "Python 3",
   "language": "python",
   "name": "python3"
  },
  "language_info": {
   "codemirror_mode": {
    "name": "ipython",
    "version": 3
   },
   "file_extension": ".py",
   "mimetype": "text/x-python",
   "name": "python",
   "nbconvert_exporter": "python",
   "pygments_lexer": "ipython3",
   "version": "3.6.7"
  }
 },
 "nbformat": 4,
 "nbformat_minor": 2
}
