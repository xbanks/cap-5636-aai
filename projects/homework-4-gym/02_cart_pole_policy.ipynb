{
 "cells": [
  {
   "cell_type": "code",
   "execution_count": 1,
   "metadata": {},
   "outputs": [],
   "source": [
    "import gym\n",
    "import numpy as np\n",
    "\n",
    "env = gym.make('CartPole-v1')"
   ]
  },
  {
   "cell_type": "markdown",
   "metadata": {},
   "source": [
    "Lets see what the possible actions are"
   ]
  },
  {
   "cell_type": "code",
   "execution_count": 2,
   "metadata": {},
   "outputs": [
    {
     "name": "stdout",
     "output_type": "stream",
     "text": [
      "\n",
      "    Description:\n",
      "        A pole is attached by an un-actuated joint to a cart, which moves along a frictionless track. The pendulum starts upright, and the goal is to prevent it from falling over by increasing and reducing the cart's velocity.\n",
      "\n",
      "    Source:\n",
      "        This environment corresponds to the version of the cart-pole problem described by Barto, Sutton, and Anderson\n",
      "\n",
      "    Observation: \n",
      "        Type: Box(4)\n",
      "        Num\tObservation                 Min         Max\n",
      "        0\tCart Position             -4.8            4.8\n",
      "        1\tCart Velocity             -Inf            Inf\n",
      "        2\tPole Angle                 -24°           24°\n",
      "        3\tPole Velocity At Tip      -Inf            Inf\n",
      "        \n",
      "    Actions:\n",
      "        Type: Discrete(2)\n",
      "        Num\tAction\n",
      "        0\tPush cart to the left\n",
      "        1\tPush cart to the right\n",
      "        \n",
      "        Note: The amount the velocity is reduced or increased is not fixed as it depends on the angle the pole is pointing. This is because the center of gravity of the pole increases the amount of energy needed to move the cart underneath it\n",
      "\n",
      "    Reward:\n",
      "        Reward is 1 for every step taken, including the termination step\n",
      "\n",
      "    Starting State:\n",
      "        All observations are assigned a uniform random value between ±0.05\n",
      "\n",
      "    Episode Termination:\n",
      "        Pole Angle is more than ±12°\n",
      "        Cart Position is more than ±2.4 (center of the cart reaches the edge of the display)\n",
      "        Episode length is greater than 200\n",
      "        Solved Requirements\n",
      "        Considered solved when the average reward is greater than or equal to 195.0 over 100 consecutive trials.\n",
      "    \n"
     ]
    }
   ],
   "source": [
    "print(env.env.__doc__)"
   ]
  },
  {
   "cell_type": "code",
   "execution_count": 3,
   "metadata": {},
   "outputs": [],
   "source": [
    "env.action_space\n",
    "\n",
    "LEFT = 0\n",
    "RIGHT = 1"
   ]
  },
  {
   "cell_type": "markdown",
   "metadata": {},
   "source": [
    "Looks like we have 2 moves, left and right, in this case this means applying a force of -1 or +1 respectivly"
   ]
  },
  {
   "cell_type": "code",
   "execution_count": 58,
   "metadata": {},
   "outputs": [],
   "source": [
    "def reverse(direction):\n",
    "    if direction == LEFT:\n",
    "        return RIGHT\n",
    "    return LEFT\n",
    "\n",
    "LOG = False\n",
    "\n",
    "def log(*s: str):\n",
    "    if not LOG:\n",
    "        return\n",
    "    print(s)"
   ]
  },
  {
   "cell_type": "markdown",
   "metadata": {},
   "source": [
    "## Policy\n",
    "\n",
    "My policy here is to try to keep the velocity of the pole low. So if the velocity of the pole increases too much in any given direction, then the agent will move in the corresponding direction to reverse that velocity.\n",
    "\n",
    "I do however choose the threshold values of the pole velocity to be over and under 0 by a small amount, also taking into account the previous movement, so as to not make sharp changes to the movement that will result in the pole falling over quickly."
   ]
  },
  {
   "cell_type": "code",
   "execution_count": 61,
   "metadata": {},
   "outputs": [],
   "source": [
    "def run_episode(step_count=300):\n",
    "    obs = env.reset()\n",
    "    \n",
    "    cart_pos = obs[0]\n",
    "    cart_vel = obs[1]\n",
    "    pole_ang = obs[2]\n",
    "    pole_vel = obs[3]\n",
    "    \n",
    "    score = 0\n",
    "    action = LEFT\n",
    "    \n",
    "    for t in range(step_count):\n",
    "        env.render()\n",
    "        old_action = action\n",
    "        \n",
    "        # Action selection\n",
    "        if pole_vel < 0.02 and pole_ang < 0.02 and old_action == LEFT:\n",
    "            action = LEFT\n",
    "        elif pole_vel > -0.02 and pole_ang > -0.02 and old_action == RIGHT:\n",
    "            action = RIGHT\n",
    "        else:\n",
    "            action = reverse(old_action)\n",
    "        \n",
    "        # Take action and add reward\n",
    "        obs, r, done, _ = env.step(action)\n",
    "        score += r\n",
    "        \n",
    "        cart_pos = obs[0]\n",
    "        cart_vel = obs[1]\n",
    "        pole_ang = obs[2]\n",
    "        pole_vel = obs[3]\n",
    "        \n",
    "        log(t, obs)\n",
    "        log(pole_ang, pole_vel)\n",
    "        \n",
    "        if done:\n",
    "            log(\"Done after {} steps\".format(t+1))\n",
    "            break\n",
    "    log(\"Score: {}\".format(score))\n",
    "    return score"
   ]
  },
  {
   "cell_type": "code",
   "execution_count": 60,
   "metadata": {
    "scrolled": true
   },
   "outputs": [
    {
     "name": "stdout",
     "output_type": "stream",
     "text": [
      "Ep 1 Score: 500.0\n",
      "Ep 2 Score: 260.0\n",
      "Ep 3 Score: 500.0\n",
      "Ep 4 Score: 500.0\n",
      "Ep 5 Score: 415.0\n",
      "Ep 6 Score: 500.0\n",
      "Ep 7 Score: 170.0\n",
      "Ep 8 Score: 500.0\n",
      "Ep 9 Score: 500.0\n",
      "Ep 10 Score: 500.0\n",
      "Ep 11 Score: 500.0\n",
      "Ep 12 Score: 500.0\n",
      "Ep 13 Score: 500.0\n",
      "Ep 14 Score: 500.0\n",
      "Ep 15 Score: 500.0\n",
      "Ep 16 Score: 500.0\n",
      "Ep 17 Score: 500.0\n",
      "Ep 18 Score: 186.0\n",
      "Ep 19 Score: 245.0\n",
      "Ep 20 Score: 500.0\n",
      "Average Score in 20 episodes: 438.8\n"
     ]
    }
   ],
   "source": [
    "try:\n",
    "    step_count = 2000\n",
    "    total_score = 0.0\n",
    "    n_episodes = 20\n",
    "    for ep_n in range(n_episodes):\n",
    "        score = run_episode(step_count)\n",
    "        print(\"Ep {} Score: {}\".format(ep_n + 1, score))\n",
    "        total_score += score\n",
    "    avg_score = total_score / n_episodes\n",
    "    print(\"Average Score in {} episodes: {}\".format(n_episodes, avg_score))\n",
    "finally:\n",
    "    env.close()"
   ]
  }
 ],
 "metadata": {
  "kernelspec": {
   "display_name": "Python 3",
   "language": "python",
   "name": "python3"
  },
  "language_info": {
   "codemirror_mode": {
    "name": "ipython",
    "version": 3
   },
   "file_extension": ".py",
   "mimetype": "text/x-python",
   "name": "python",
   "nbconvert_exporter": "python",
   "pygments_lexer": "ipython3",
   "version": "3.6.7"
  }
 },
 "nbformat": 4,
 "nbformat_minor": 2
}
